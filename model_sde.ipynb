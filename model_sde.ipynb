{
 "cells": [
  {
   "cell_type": "code",
   "execution_count": 1,
   "metadata": {},
   "outputs": [],
   "source": [
    "import torch\n",
    "import torch.nn as nn\n",
    "import torch.nn.functional as F\n",
    "from torchlibrosa import STFT\n",
    "from pytorch_lightning import LightningModule\n",
    "import pandas as pd\n",
    "import numpy as np"
   ]
  },
  {
   "cell_type": "code",
   "execution_count": 2,
   "metadata": {},
   "outputs": [],
   "source": [
    "b = np.load('../VoiceHome2_splitted.npz')"
   ]
  },
  {
   "cell_type": "code",
   "execution_count": 15,
   "metadata": {},
   "outputs": [],
   "source": [
    "data = np.load('../VoiceHome2_splitted.npz')\n",
    "k = list(data.keys())"
   ]
  },
  {
   "cell_type": "code",
   "execution_count": 17,
   "metadata": {},
   "outputs": [
    {
     "name": "stdout",
     "output_type": "stream",
     "text": [
      "(508,)\n",
      "(508,)\n",
      "(72,)\n",
      "(72,)\n",
      "(146,)\n",
      "(146,)\n",
      "['arr_0', 'arr_1', 'arr_2', 'arr_3', 'arr_4', 'arr_5']\n"
     ]
    }
   ],
   "source": [
    "for key in k:\n",
    "    print(data[key].shape)\n",
    "    \n",
    "print(k)"
   ]
  },
  {
   "cell_type": "code",
   "execution_count": 18,
   "metadata": {},
   "outputs": [
    {
     "data": {
      "text/plain": [
       "array(['home4_room1_arrayGeo1_arrayPos1_speakerM7_speakerPos5_noiseCond31_uttNum1120.wav',\n",
       "       'home4_room3_arrayGeo1_arrayPos1_speakerF4_speakerPos4_noiseCond35_uttNum1388.wav',\n",
       "       'home4_room3_arrayGeo1_arrayPos1_speakerF4_speakerPos1_noiseCond35_uttNum1363.wav',\n",
       "       'home4_room2_arrayGeo1_arrayPos1_speakerF4_speakerPos4_noiseCond32_uttNum1267.wav',\n",
       "       'home1_room1_arrayGeo1_arrayPos1_speakerF1_speakerPos5_noiseCond3_uttNum38.wav',\n",
       "       'home4_room2_arrayGeo1_arrayPos1_speakerM8_speakerPos4_noiseCond34_uttNum1311.wav',\n",
       "       'home3_room1_arrayGeo1_arrayPos1_speakerM5_speakerPos3_noiseCond21_uttNum741.wav',\n",
       "       'home4_room2_arrayGeo1_arrayPos1_speakerM8_speakerPos4_noiseCond33_uttNum1309.wav',\n",
       "       'home4_room2_arrayGeo1_arrayPos1_speakerM8_speakerPos5_noiseCond33_uttNum1317.wav',\n",
       "       'home1_room1_arrayGeo1_arrayPos1_speakerM1_speakerPos3_noiseCond3_uttNum62.wav',\n",
       "       'home3_room2_arrayGeo1_arrayPos1_speakerM5_speakerPos3_noiseCond25_uttNum864.wav',\n",
       "       'home3_room3_arrayGeo1_arrayPos1_speakerF3_speakerPos4_noiseCond28_uttNum1071.wav',\n",
       "       'home1_room2_arrayGeo1_arrayPos1_speakerM1_speakerPos5_noiseCond5_uttNum195.wav',\n",
       "       'home4_room3_arrayGeo1_arrayPos1_speakerF4_speakerPos2_noiseCond37_uttNum1375.wav',\n",
       "       'home1_room3_arrayGeo1_arrayPos1_speakerF1_speakerPos5_noiseCond8_uttNum275.wav',\n",
       "       'home1_room3_arrayGeo1_arrayPos1_speakerM1_speakerPos3_noiseCond9_uttNum301.wav',\n",
       "       'home3_room3_arrayGeo1_arrayPos1_speakerM5_speakerPos2_noiseCond26_uttNum972.wav',\n",
       "       'home1_room3_arrayGeo1_arrayPos1_speakerM2_speakerPos4_noiseCond8_uttNum348.wav',\n",
       "       'home3_room1_arrayGeo1_arrayPos1_speakerF3_speakerPos3_noiseCond20_uttNum820.wav',\n",
       "       'home4_room2_arrayGeo1_arrayPos1_speakerM7_speakerPos3_noiseCond32_uttNum1220.wav',\n",
       "       'home4_room2_arrayGeo1_arrayPos1_speakerM7_speakerPos2_noiseCond32_uttNum1211.wav',\n",
       "       'home1_room3_arrayGeo1_arrayPos1_speakerM2_speakerPos2_noiseCond9_uttNum333.wav',\n",
       "       'home1_room2_arrayGeo1_arrayPos1_speakerM2_speakerPos1_noiseCond6_uttNum206.wav',\n",
       "       'home1_room3_arrayGeo1_arrayPos1_speakerM1_speakerPos5_noiseCond8_uttNum316.wav',\n",
       "       'home1_room1_arrayGeo1_arrayPos1_speakerM1_speakerPos5_noiseCond4_uttNum79.wav',\n",
       "       'home1_room3_arrayGeo1_arrayPos1_speakerM2_speakerPos3_noiseCond9_uttNum342.wav',\n",
       "       'home4_room2_arrayGeo1_arrayPos1_speakerM7_speakerPos2_noiseCond32_uttNum1212.wav',\n",
       "       'home4_room2_arrayGeo1_arrayPos1_speakerM7_speakerPos5_noiseCond33_uttNum1237.wav',\n",
       "       'home4_room1_arrayGeo1_arrayPos1_speakerM8_speakerPos3_noiseCond29_uttNum1179.wav',\n",
       "       'home1_room2_arrayGeo1_arrayPos1_speakerM1_speakerPos4_noiseCond5_uttNum188.wav',\n",
       "       'home1_room2_arrayGeo1_arrayPos1_speakerM2_speakerPos3_noiseCond6_uttNum221.wav',\n",
       "       'home4_room3_arrayGeo1_arrayPos1_speakerM8_speakerPos3_noiseCond36_uttNum1422.wav',\n",
       "       'home1_room1_arrayGeo1_arrayPos1_speakerM2_speakerPos3_noiseCond2_uttNum99.wav',\n",
       "       'home1_room2_arrayGeo1_arrayPos1_speakerM2_speakerPos2_noiseCond5_uttNum211.wav',\n",
       "       'home4_room1_arrayGeo1_arrayPos1_speakerM7_speakerPos5_noiseCond30_uttNum1117.wav',\n",
       "       'home4_room3_arrayGeo1_arrayPos1_speakerM8_speakerPos2_noiseCond37_uttNum1416.wav',\n",
       "       'home4_room3_arrayGeo1_arrayPos1_speakerF4_speakerPos3_noiseCond35_uttNum1380.wav',\n",
       "       'home3_room3_arrayGeo1_arrayPos1_speakerM5_speakerPos4_noiseCond27_uttNum990.wav',\n",
       "       'home3_room2_arrayGeo1_arrayPos1_speakerM5_speakerPos2_noiseCond23_uttNum851.wav',\n",
       "       'home1_room1_arrayGeo1_arrayPos1_speakerM2_speakerPos4_noiseCond2_uttNum108.wav',\n",
       "       'home3_room3_arrayGeo1_arrayPos1_speakerM5_speakerPos4_noiseCond26_uttNum988.wav',\n",
       "       'home1_room1_arrayGeo1_arrayPos1_speakerM2_speakerPos2_noiseCond4_uttNum96.wav',\n",
       "       'home3_room3_arrayGeo1_arrayPos1_speakerM5_speakerPos4_noiseCond28_uttNum991.wav',\n",
       "       'home4_room3_arrayGeo1_arrayPos1_speakerM8_speakerPos2_noiseCond36_uttNum1413.wav',\n",
       "       'home4_room2_arrayGeo1_arrayPos1_speakerF4_speakerPos4_noiseCond32_uttNum1268.wav',\n",
       "       'home1_room3_arrayGeo1_arrayPos1_speakerM2_speakerPos4_noiseCond9_uttNum349.wav',\n",
       "       'home4_room2_arrayGeo1_arrayPos1_speakerM7_speakerPos4_noiseCond33_uttNum1230.wav',\n",
       "       'home1_room1_arrayGeo1_arrayPos1_speakerM2_speakerPos5_noiseCond3_uttNum118.wav',\n",
       "       'home3_room3_arrayGeo1_arrayPos1_speakerM6_speakerPos1_noiseCond28_uttNum1008.wav',\n",
       "       'home3_room3_arrayGeo1_arrayPos1_speakerF3_speakerPos5_noiseCond28_uttNum1079.wav',\n",
       "       'home3_room3_arrayGeo1_arrayPos1_speakerM6_speakerPos4_noiseCond27_uttNum1029.wav',\n",
       "       'home4_room3_arrayGeo1_arrayPos1_speakerM7_speakerPos2_noiseCond37_uttNum1335.wav',\n",
       "       'home4_room1_arrayGeo1_arrayPos1_speakerM7_speakerPos5_noiseCond29_uttNum1115.wav',\n",
       "       'home4_room2_arrayGeo1_arrayPos1_speakerM7_speakerPos1_noiseCond34_uttNum1207.wav',\n",
       "       'home1_room1_arrayGeo1_arrayPos1_speakerF1_speakerPos1_noiseCond2_uttNum3.wav',\n",
       "       'home4_room2_arrayGeo1_arrayPos1_speakerF4_speakerPos3_noiseCond32_uttNum1260.wav',\n",
       "       'home3_room2_arrayGeo1_arrayPos1_speakerF3_speakerPos4_noiseCond23_uttNum947.wav',\n",
       "       'home1_room2_arrayGeo1_arrayPos1_speakerM1_speakerPos5_noiseCond5_uttNum196.wav',\n",
       "       'home4_room2_arrayGeo1_arrayPos1_speakerM7_speakerPos4_noiseCond32_uttNum1227.wav',\n",
       "       'home3_room2_arrayGeo1_arrayPos1_speakerM6_speakerPos1_noiseCond23_uttNum884.wav',\n",
       "       'home1_room1_arrayGeo1_arrayPos1_speakerF1_speakerPos3_noiseCond3_uttNum21.wav',\n",
       "       'home1_room1_arrayGeo1_arrayPos1_speakerF1_speakerPos1_noiseCond4_uttNum8.wav',\n",
       "       'home1_room2_arrayGeo1_arrayPos1_speakerF1_speakerPos4_noiseCond7_uttNum152.wav',\n",
       "       'home3_room1_arrayGeo1_arrayPos1_speakerM6_speakerPos5_noiseCond21_uttNum798.wav',\n",
       "       'home4_room2_arrayGeo1_arrayPos1_speakerM8_speakerPos3_noiseCond33_uttNum1301.wav',\n",
       "       'home3_room2_arrayGeo1_arrayPos1_speakerM6_speakerPos4_noiseCond23_uttNum908.wav',\n",
       "       'home4_room3_arrayGeo1_arrayPos1_speakerM8_speakerPos5_noiseCond36_uttNum1438.wav',\n",
       "       'home4_room1_arrayGeo1_arrayPos1_speakerF4_speakerPos5_noiseCond31_uttNum1160.wav',\n",
       "       'home3_room1_arrayGeo1_arrayPos1_speakerF3_speakerPos1_noiseCond21_uttNum805.wav',\n",
       "       'home1_room1_arrayGeo1_arrayPos1_speakerM2_speakerPos2_noiseCond3_uttNum93.wav',\n",
       "       'home4_room1_arrayGeo1_arrayPos1_speakerM8_speakerPos1_noiseCond29_uttNum1163.wav',\n",
       "       'home3_room1_arrayGeo1_arrayPos1_speakerM6_speakerPos5_noiseCond20_uttNum796.wav'],\n",
       "      dtype='<U80')"
      ]
     },
     "execution_count": 18,
     "metadata": {},
     "output_type": "execute_result"
    }
   ],
   "source": [
    "data['arr_2']"
   ]
  },
  {
   "cell_type": "code",
   "execution_count": 21,
   "metadata": {},
   "outputs": [
    {
     "data": {
      "text/plain": [
       "array([1.4760172, 1.6281923, 3.273949 , 2.103603 , 2.082679 , 2.1425464,\n",
       "       3.2783227, 2.1425464, 2.8592582, 1.2603686, 1.9753332, 1.6741225,\n",
       "       3.8588967, 2.9517348, 1.4527745, 2.214364 , 1.0135142, 1.9257983,\n",
       "       3.2062628, 1.4278816, 1.1103035, 1.4052494, 4.2723303, 1.4720116,\n",
       "       2.090386 , 2.2280056, 1.1103035, 2.861894 , 3.6065786, 1.1926244,\n",
       "       1.3661702, 2.5150435, 1.2741935, 3.4830706, 1.4760172, 2.9741316,\n",
       "       2.4885185, 1.7359279, 2.6317296, 1.3893862, 1.7359279, 2.6845813,\n",
       "       1.7359279, 2.9741316, 2.103603 , 1.9257983, 2.1460626, 2.0987504,\n",
       "       1.5927542, 2.0351932, 1.6901541, 2.9762087, 1.4760172, 1.8050092,\n",
       "       3.5730681, 1.3632337, 1.3074864, 3.8588967, 2.1460626, 2.590893 ,\n",
       "       1.2475448, 3.5730681, 1.1883   , 1.6942376, 1.4225913, 1.3195153,\n",
       "       1.0400279, 1.3928198, 2.5370772, 2.6845813, 2.4902003, 1.6942376],\n",
       "      dtype=float32)"
      ]
     },
     "execution_count": 21,
     "metadata": {},
     "output_type": "execute_result"
    }
   ],
   "source": [
    "data['arr_3']"
   ]
  },
  {
   "cell_type": "code",
   "execution_count": null,
   "metadata": {},
   "outputs": [],
   "source": [
    "class SDENet_RIR(nn.Module):\n",
    "    def __init__(self,\n",
    "                 num_freq_bins,\n",
    "                 seq_len,\n",
    "                 lstm_hidden_size,\n",
    "                 lstm_num_layers,\n",
    "                 output_size=1\n",
    "                 ):\n",
    "        super(SDENet_RIR, self).__init__()\n",
    "        # spectrogram representation of RIR\n",
    "        self.n_fft = 512\n",
    "        self.hop_length = 256\n",
    "\n",
    "        self.input_size = num_freq_bins\n",
    "        self.seq_len = seq_len\n",
    "        self.output_size = output_size\n",
    "\n",
    "        # LSTM variables\n",
    "        self.lstm_hidden_size = lstm_hidden_size\n",
    "        self.lstm_num_layers = lstm_num_layers\n",
    "\n",
    "        self.lstm = nn.LSTM(self.input_size, \n",
    "                            self.lstm_hidden_size, \n",
    "                            num_layers=self.lstm_num_layers,\n",
    "                            batch_first=True)\n",
    "        self.fcn = nn.Linear(seq_len, output_size)\n",
    "    \n",
    "    def forward(self, x):\n",
    "        \"\"\"\n",
    "        Input:\n",
    "            x : RIR\n",
    "        \n",
    "        Output:\n",
    "            out : distance estimate\n",
    "        \"\"\"\n",
    "        out = self.lstm(x)\n",
    "        out = self.fcn(out)\n",
    "        return out\n",
    "\n",
    "class SDENet_Source(nn.Module):\n",
    "    def __init__(self,\n",
    "                 ):\n",
    "        super(SDENet_Source, self).__init__()\n",
    "\n",
    "        # spectrogram representation of\n",
    "\n",
    "    \n",
    "    def forward(self, x):\n",
    "        \"\"\"\n",
    "        Input:\n",
    "            x : speech\n",
    "        \n",
    "        Output:\n",
    "            d : distance estimate\n",
    "        \"\"\"\n"
   ]
  },
  {
   "cell_type": "code",
   "execution_count": null,
   "metadata": {},
   "outputs": [],
   "source": [
    "\n",
    "if __name__ == \"__main__\": \n",
    "\n",
    "    x = torch.rand((1,16000))\n",
    "\n",
    "    X = torch.stft(x, 256, 128, return_complex=True)\n",
    "\n",
    "    model = SDENet_RIR(129, 126, 3, 1)\n",
    "    y = model(X)\n"
   ]
  }
 ],
 "metadata": {
  "kernelspec": {
   "display_name": "pytorchenv",
   "language": "python",
   "name": "python3"
  },
  "language_info": {
   "codemirror_mode": {
    "name": "ipython",
    "version": 3
   },
   "file_extension": ".py",
   "mimetype": "text/x-python",
   "name": "python",
   "nbconvert_exporter": "python",
   "pygments_lexer": "ipython3",
   "version": "3.10.13"
  }
 },
 "nbformat": 4,
 "nbformat_minor": 2
}
