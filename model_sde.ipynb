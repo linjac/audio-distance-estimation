{
 "cells": [
  {
   "cell_type": "code",
   "execution_count": 1,
   "metadata": {},
   "outputs": [
    {
     "ename": "ModuleNotFoundError",
     "evalue": "No module named 'torchlibrosa'",
     "output_type": "error",
     "traceback": [
      "\u001b[0;31m---------------------------------------------------------------------------\u001b[0m",
      "\u001b[0;31mModuleNotFoundError\u001b[0m                       Traceback (most recent call last)",
      "Cell \u001b[0;32mIn[1], line 4\u001b[0m\n\u001b[1;32m      2\u001b[0m \u001b[38;5;28;01mimport\u001b[39;00m \u001b[38;5;21;01mtorch\u001b[39;00m\u001b[38;5;21;01m.\u001b[39;00m\u001b[38;5;21;01mnn\u001b[39;00m \u001b[38;5;28;01mas\u001b[39;00m \u001b[38;5;21;01mnn\u001b[39;00m\n\u001b[1;32m      3\u001b[0m \u001b[38;5;28;01mimport\u001b[39;00m \u001b[38;5;21;01mtorch\u001b[39;00m\u001b[38;5;21;01m.\u001b[39;00m\u001b[38;5;21;01mnn\u001b[39;00m\u001b[38;5;21;01m.\u001b[39;00m\u001b[38;5;21;01mfunctional\u001b[39;00m \u001b[38;5;28;01mas\u001b[39;00m \u001b[38;5;21;01mF\u001b[39;00m\n\u001b[0;32m----> 4\u001b[0m \u001b[38;5;28;01mfrom\u001b[39;00m \u001b[38;5;21;01mtorchlibrosa\u001b[39;00m \u001b[38;5;28;01mimport\u001b[39;00m STFT\n\u001b[1;32m      5\u001b[0m \u001b[38;5;28;01mfrom\u001b[39;00m \u001b[38;5;21;01mpytorch_lightning\u001b[39;00m \u001b[38;5;28;01mimport\u001b[39;00m LightningModule\n\u001b[1;32m      6\u001b[0m \u001b[38;5;28;01mimport\u001b[39;00m \u001b[38;5;21;01mpandas\u001b[39;00m \u001b[38;5;28;01mas\u001b[39;00m \u001b[38;5;21;01mpd\u001b[39;00m\n",
      "\u001b[0;31mModuleNotFoundError\u001b[0m: No module named 'torchlibrosa'"
     ]
    }
   ],
   "source": [
    "import torch\n",
    "import torch.nn as nn\n",
    "import torch.nn.functional as F\n",
    "from torchlibrosa import STFT\n",
    "from pytorch_lightning import LightningModule\n",
    "import pandas as pd\n"
   ]
  },
  {
   "cell_type": "code",
   "execution_count": null,
   "metadata": {},
   "outputs": [],
   "source": [
    "class SDENet_RIR(nn.Module):\n",
    "    def __init__(self,\n",
    "                 num_freq_bins,\n",
    "                 seq_len,\n",
    "                 lstm_hidden_size,\n",
    "                 lstm_num_layers,\n",
    "                 output_size=1\n",
    "                 ):\n",
    "        super(SDENet_RIR, self).__init__()\n",
    "        # spectrogram representation of RIR\n",
    "        self.n_fft = 512\n",
    "        self.hop_length = 256\n",
    "\n",
    "        self.input_size = num_freq_bins\n",
    "        self.seq_len = seq_len\n",
    "        self.output_size = output_size\n",
    "\n",
    "        # LSTM variables\n",
    "        self.lstm_hidden_size = lstm_hidden_size\n",
    "        self.lstm_num_layers = lstm_num_layers\n",
    "\n",
    "        self.lstm = nn.LSTM(self.input_size, \n",
    "                            self.lstm_hidden_size, \n",
    "                            num_layers=self.lstm_num_layers,\n",
    "                            batch_first=True)\n",
    "        self.fcn = nn.Linear(seq_len, output_size)\n",
    "    \n",
    "    def forward(self, x):\n",
    "        \"\"\"\n",
    "        Input:\n",
    "            x : RIR\n",
    "        \n",
    "        Output:\n",
    "            out : distance estimate\n",
    "        \"\"\"\n",
    "        out = self.lstm(x)\n",
    "        out = self.fcn(out)\n",
    "        return out\n",
    "\n",
    "class SDENet_Source(nn.Module):\n",
    "    def __init__(self,\n",
    "                 ):\n",
    "        super(SDENet_Source, self).__init__()\n",
    "\n",
    "        # spectrogram representation of\n",
    "\n",
    "    \n",
    "    def forward(self, x):\n",
    "        \"\"\"\n",
    "        Input:\n",
    "            x : speech\n",
    "        \n",
    "        Output:\n",
    "            d : distance estimate\n",
    "        \"\"\"\n"
   ]
  },
  {
   "cell_type": "code",
   "execution_count": null,
   "metadata": {},
   "outputs": [],
   "source": [
    "\n",
    "if __name__ == \"__main__\": \n",
    "\n",
    "    x = torch.rand((1,16000))\n",
    "\n",
    "    X = torch.stft(x, 256, 128, return_complex=True)\n",
    "\n",
    "    model = SDENet_RIR(129, 126, 3, 1)\n",
    "    y = model(X)\n"
   ]
  }
 ],
 "metadata": {
  "kernelspec": {
   "display_name": "pytorchenv",
   "language": "python",
   "name": "python3"
  },
  "language_info": {
   "codemirror_mode": {
    "name": "ipython",
    "version": 3
   },
   "file_extension": ".py",
   "mimetype": "text/x-python",
   "name": "python",
   "nbconvert_exporter": "python",
   "pygments_lexer": "ipython3",
   "version": "3.12.6"
  }
 },
 "nbformat": 4,
 "nbformat_minor": 2
}
